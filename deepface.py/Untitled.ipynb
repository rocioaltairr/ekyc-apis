{
 "cells": [
  {
   "cell_type": "code",
   "execution_count": null,
   "id": "eacf9e6d-dd44-40f0-a9ad-53b07ec3668b",
   "metadata": {},
   "outputs": [],
   "source": [
    "pip install deepface --no-deps"
   ]
  },
  {
   "cell_type": "code",
   "execution_count": null,
   "id": "7b93535e-dbc5-4511-93b0-312ef6a692de",
   "metadata": {},
   "outputs": [],
   "source": [
    "from deepface import DeepFace"
   ]
  },
  {
   "cell_type": "code",
   "execution_count": null,
   "id": "fa8e1fa5-4598-4077-8293-49b4b0527212",
   "metadata": {},
   "outputs": [],
   "source": [
    "face1 = \"\""
   ]
  }
 ],
 "metadata": {
  "kernelspec": {
   "display_name": "Python 3 (ipykernel)",
   "language": "python",
   "name": "python3"
  },
  "language_info": {
   "codemirror_mode": {
    "name": "ipython",
    "version": 3
   },
   "file_extension": ".py",
   "mimetype": "text/x-python",
   "name": "python",
   "nbconvert_exporter": "python",
   "pygments_lexer": "ipython3",
   "version": "3.13.1"
  }
 },
 "nbformat": 4,
 "nbformat_minor": 5
}
